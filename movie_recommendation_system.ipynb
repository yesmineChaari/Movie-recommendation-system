{
 "cells": [
  {
   "cell_type": "code",
   "execution_count": 1,
   "id": "4248b182-5555-4837-bcf5-03d8ae45d032",
   "metadata": {},
   "outputs": [],
   "source": [
    "import numpy as np \n",
    "import pandas as pd \n",
    "import difflib\n",
    "from sklearn.feature_extraction.text import TfidfVectorizer\n",
    "from sklearn.metrics.pairwise import cosine_similarity\n"
   ]
  },
  {
   "cell_type": "code",
   "execution_count": 2,
   "id": "ec0e6ecc-506c-4c67-ae5d-5b06c68a538e",
   "metadata": {},
   "outputs": [],
   "source": [
    "import numpy as np \n",
    "import pandas as pd \n",
    "import difflib\n",
    "from sklearn.feature_extraction.text import TfidfVectorizer\n",
    "from sklearn.metrics.pairwise import cosine_similarity\n"
   ]
  },
  {
   "cell_type": "code",
   "execution_count": 3,
   "id": "e849c41f-b034-4250-96b3-41cbd6ce04aa",
   "metadata": {},
   "outputs": [
    {
     "data": {
      "text/html": [
       "<div>\n",
       "<style scoped>\n",
       "    .dataframe tbody tr th:only-of-type {\n",
       "        vertical-align: middle;\n",
       "    }\n",
       "\n",
       "    .dataframe tbody tr th {\n",
       "        vertical-align: top;\n",
       "    }\n",
       "\n",
       "    .dataframe thead th {\n",
       "        text-align: right;\n",
       "    }\n",
       "</style>\n",
       "<table border=\"1\" class=\"dataframe\">\n",
       "  <thead>\n",
       "    <tr style=\"text-align: right;\">\n",
       "      <th></th>\n",
       "      <th>index</th>\n",
       "      <th>budget</th>\n",
       "      <th>genres</th>\n",
       "      <th>homepage</th>\n",
       "      <th>id</th>\n",
       "      <th>keywords</th>\n",
       "      <th>original_language</th>\n",
       "      <th>original_title</th>\n",
       "      <th>overview</th>\n",
       "      <th>popularity</th>\n",
       "      <th>...</th>\n",
       "      <th>runtime</th>\n",
       "      <th>spoken_languages</th>\n",
       "      <th>status</th>\n",
       "      <th>tagline</th>\n",
       "      <th>title</th>\n",
       "      <th>vote_average</th>\n",
       "      <th>vote_count</th>\n",
       "      <th>cast</th>\n",
       "      <th>crew</th>\n",
       "      <th>director</th>\n",
       "    </tr>\n",
       "  </thead>\n",
       "  <tbody>\n",
       "    <tr>\n",
       "      <th>0</th>\n",
       "      <td>0</td>\n",
       "      <td>237000000</td>\n",
       "      <td>Action Adventure Fantasy Science Fiction</td>\n",
       "      <td>http://www.avatarmovie.com/</td>\n",
       "      <td>19995</td>\n",
       "      <td>culture clash future space war space colony so...</td>\n",
       "      <td>en</td>\n",
       "      <td>Avatar</td>\n",
       "      <td>In the 22nd century, a paraplegic Marine is di...</td>\n",
       "      <td>150.437577</td>\n",
       "      <td>...</td>\n",
       "      <td>162.0</td>\n",
       "      <td>[{\"iso_639_1\": \"en\", \"name\": \"English\"}, {\"iso...</td>\n",
       "      <td>Released</td>\n",
       "      <td>Enter the World of Pandora.</td>\n",
       "      <td>Avatar</td>\n",
       "      <td>7.2</td>\n",
       "      <td>11800</td>\n",
       "      <td>Sam Worthington Zoe Saldana Sigourney Weaver S...</td>\n",
       "      <td>[{'name': 'Stephen E. Rivkin', 'gender': 0, 'd...</td>\n",
       "      <td>James Cameron</td>\n",
       "    </tr>\n",
       "    <tr>\n",
       "      <th>1</th>\n",
       "      <td>1</td>\n",
       "      <td>300000000</td>\n",
       "      <td>Adventure Fantasy Action</td>\n",
       "      <td>http://disney.go.com/disneypictures/pirates/</td>\n",
       "      <td>285</td>\n",
       "      <td>ocean drug abuse exotic island east india trad...</td>\n",
       "      <td>en</td>\n",
       "      <td>Pirates of the Caribbean: At World's End</td>\n",
       "      <td>Captain Barbossa, long believed to be dead, ha...</td>\n",
       "      <td>139.082615</td>\n",
       "      <td>...</td>\n",
       "      <td>169.0</td>\n",
       "      <td>[{\"iso_639_1\": \"en\", \"name\": \"English\"}]</td>\n",
       "      <td>Released</td>\n",
       "      <td>At the end of the world, the adventure begins.</td>\n",
       "      <td>Pirates of the Caribbean: At World's End</td>\n",
       "      <td>6.9</td>\n",
       "      <td>4500</td>\n",
       "      <td>Johnny Depp Orlando Bloom Keira Knightley Stel...</td>\n",
       "      <td>[{'name': 'Dariusz Wolski', 'gender': 2, 'depa...</td>\n",
       "      <td>Gore Verbinski</td>\n",
       "    </tr>\n",
       "    <tr>\n",
       "      <th>2</th>\n",
       "      <td>2</td>\n",
       "      <td>245000000</td>\n",
       "      <td>Action Adventure Crime</td>\n",
       "      <td>http://www.sonypictures.com/movies/spectre/</td>\n",
       "      <td>206647</td>\n",
       "      <td>spy based on novel secret agent sequel mi6</td>\n",
       "      <td>en</td>\n",
       "      <td>Spectre</td>\n",
       "      <td>A cryptic message from Bond’s past sends him o...</td>\n",
       "      <td>107.376788</td>\n",
       "      <td>...</td>\n",
       "      <td>148.0</td>\n",
       "      <td>[{\"iso_639_1\": \"fr\", \"name\": \"Fran\\u00e7ais\"},...</td>\n",
       "      <td>Released</td>\n",
       "      <td>A Plan No One Escapes</td>\n",
       "      <td>Spectre</td>\n",
       "      <td>6.3</td>\n",
       "      <td>4466</td>\n",
       "      <td>Daniel Craig Christoph Waltz L\\u00e9a Seydoux ...</td>\n",
       "      <td>[{'name': 'Thomas Newman', 'gender': 2, 'depar...</td>\n",
       "      <td>Sam Mendes</td>\n",
       "    </tr>\n",
       "    <tr>\n",
       "      <th>3</th>\n",
       "      <td>3</td>\n",
       "      <td>250000000</td>\n",
       "      <td>Action Crime Drama Thriller</td>\n",
       "      <td>http://www.thedarkknightrises.com/</td>\n",
       "      <td>49026</td>\n",
       "      <td>dc comics crime fighter terrorist secret ident...</td>\n",
       "      <td>en</td>\n",
       "      <td>The Dark Knight Rises</td>\n",
       "      <td>Following the death of District Attorney Harve...</td>\n",
       "      <td>112.312950</td>\n",
       "      <td>...</td>\n",
       "      <td>165.0</td>\n",
       "      <td>[{\"iso_639_1\": \"en\", \"name\": \"English\"}]</td>\n",
       "      <td>Released</td>\n",
       "      <td>The Legend Ends</td>\n",
       "      <td>The Dark Knight Rises</td>\n",
       "      <td>7.6</td>\n",
       "      <td>9106</td>\n",
       "      <td>Christian Bale Michael Caine Gary Oldman Anne ...</td>\n",
       "      <td>[{'name': 'Hans Zimmer', 'gender': 2, 'departm...</td>\n",
       "      <td>Christopher Nolan</td>\n",
       "    </tr>\n",
       "    <tr>\n",
       "      <th>4</th>\n",
       "      <td>4</td>\n",
       "      <td>260000000</td>\n",
       "      <td>Action Adventure Science Fiction</td>\n",
       "      <td>http://movies.disney.com/john-carter</td>\n",
       "      <td>49529</td>\n",
       "      <td>based on novel mars medallion space travel pri...</td>\n",
       "      <td>en</td>\n",
       "      <td>John Carter</td>\n",
       "      <td>John Carter is a war-weary, former military ca...</td>\n",
       "      <td>43.926995</td>\n",
       "      <td>...</td>\n",
       "      <td>132.0</td>\n",
       "      <td>[{\"iso_639_1\": \"en\", \"name\": \"English\"}]</td>\n",
       "      <td>Released</td>\n",
       "      <td>Lost in our world, found in another.</td>\n",
       "      <td>John Carter</td>\n",
       "      <td>6.1</td>\n",
       "      <td>2124</td>\n",
       "      <td>Taylor Kitsch Lynn Collins Samantha Morton Wil...</td>\n",
       "      <td>[{'name': 'Andrew Stanton', 'gender': 2, 'depa...</td>\n",
       "      <td>Andrew Stanton</td>\n",
       "    </tr>\n",
       "  </tbody>\n",
       "</table>\n",
       "<p>5 rows × 24 columns</p>\n",
       "</div>"
      ],
      "text/plain": [
       "   index     budget                                    genres  \\\n",
       "0      0  237000000  Action Adventure Fantasy Science Fiction   \n",
       "1      1  300000000                  Adventure Fantasy Action   \n",
       "2      2  245000000                    Action Adventure Crime   \n",
       "3      3  250000000               Action Crime Drama Thriller   \n",
       "4      4  260000000          Action Adventure Science Fiction   \n",
       "\n",
       "                                       homepage      id  \\\n",
       "0                   http://www.avatarmovie.com/   19995   \n",
       "1  http://disney.go.com/disneypictures/pirates/     285   \n",
       "2   http://www.sonypictures.com/movies/spectre/  206647   \n",
       "3            http://www.thedarkknightrises.com/   49026   \n",
       "4          http://movies.disney.com/john-carter   49529   \n",
       "\n",
       "                                            keywords original_language  \\\n",
       "0  culture clash future space war space colony so...                en   \n",
       "1  ocean drug abuse exotic island east india trad...                en   \n",
       "2         spy based on novel secret agent sequel mi6                en   \n",
       "3  dc comics crime fighter terrorist secret ident...                en   \n",
       "4  based on novel mars medallion space travel pri...                en   \n",
       "\n",
       "                             original_title  \\\n",
       "0                                    Avatar   \n",
       "1  Pirates of the Caribbean: At World's End   \n",
       "2                                   Spectre   \n",
       "3                     The Dark Knight Rises   \n",
       "4                               John Carter   \n",
       "\n",
       "                                            overview  popularity  ... runtime  \\\n",
       "0  In the 22nd century, a paraplegic Marine is di...  150.437577  ...   162.0   \n",
       "1  Captain Barbossa, long believed to be dead, ha...  139.082615  ...   169.0   \n",
       "2  A cryptic message from Bond’s past sends him o...  107.376788  ...   148.0   \n",
       "3  Following the death of District Attorney Harve...  112.312950  ...   165.0   \n",
       "4  John Carter is a war-weary, former military ca...   43.926995  ...   132.0   \n",
       "\n",
       "                                    spoken_languages    status  \\\n",
       "0  [{\"iso_639_1\": \"en\", \"name\": \"English\"}, {\"iso...  Released   \n",
       "1           [{\"iso_639_1\": \"en\", \"name\": \"English\"}]  Released   \n",
       "2  [{\"iso_639_1\": \"fr\", \"name\": \"Fran\\u00e7ais\"},...  Released   \n",
       "3           [{\"iso_639_1\": \"en\", \"name\": \"English\"}]  Released   \n",
       "4           [{\"iso_639_1\": \"en\", \"name\": \"English\"}]  Released   \n",
       "\n",
       "                                          tagline  \\\n",
       "0                     Enter the World of Pandora.   \n",
       "1  At the end of the world, the adventure begins.   \n",
       "2                           A Plan No One Escapes   \n",
       "3                                 The Legend Ends   \n",
       "4            Lost in our world, found in another.   \n",
       "\n",
       "                                      title vote_average vote_count  \\\n",
       "0                                    Avatar          7.2      11800   \n",
       "1  Pirates of the Caribbean: At World's End          6.9       4500   \n",
       "2                                   Spectre          6.3       4466   \n",
       "3                     The Dark Knight Rises          7.6       9106   \n",
       "4                               John Carter          6.1       2124   \n",
       "\n",
       "                                                cast  \\\n",
       "0  Sam Worthington Zoe Saldana Sigourney Weaver S...   \n",
       "1  Johnny Depp Orlando Bloom Keira Knightley Stel...   \n",
       "2  Daniel Craig Christoph Waltz L\\u00e9a Seydoux ...   \n",
       "3  Christian Bale Michael Caine Gary Oldman Anne ...   \n",
       "4  Taylor Kitsch Lynn Collins Samantha Morton Wil...   \n",
       "\n",
       "                                                crew           director  \n",
       "0  [{'name': 'Stephen E. Rivkin', 'gender': 0, 'd...      James Cameron  \n",
       "1  [{'name': 'Dariusz Wolski', 'gender': 2, 'depa...     Gore Verbinski  \n",
       "2  [{'name': 'Thomas Newman', 'gender': 2, 'depar...         Sam Mendes  \n",
       "3  [{'name': 'Hans Zimmer', 'gender': 2, 'departm...  Christopher Nolan  \n",
       "4  [{'name': 'Andrew Stanton', 'gender': 2, 'depa...     Andrew Stanton  \n",
       "\n",
       "[5 rows x 24 columns]"
      ]
     },
     "execution_count": 3,
     "metadata": {},
     "output_type": "execute_result"
    }
   ],
   "source": [
    "movies_data=pd.read_csv('movies.csv')\n",
    "movies_data.head()"
   ]
  },
  {
   "cell_type": "code",
   "execution_count": 4,
   "id": "35ceca14-4cfb-4ffb-8f7d-091cc1d7797e",
   "metadata": {},
   "outputs": [],
   "source": [
    "selected_features=[\"genres\",\"keywords\",\"tagline\",\"cast\",\"director\"]\n",
    "for feature in selected_features:\n",
    "    movies_data[feature]=movies_data[feature].fillna('')\n",
    "    \n",
    "    "
   ]
  },
  {
   "cell_type": "code",
   "execution_count": 5,
   "id": "6fd0e5bd-550c-4db9-9c00-e2492b9a1295",
   "metadata": {},
   "outputs": [],
   "source": [
    "features=movies_data[\"genres\"]+' '+movies_data[\"keywords\"]+' '+movies_data[\"tagline\"]+\" \"+movies_data[\"cast\"]+\" \"+movies_data[\"director\"]"
   ]
  },
  {
   "cell_type": "code",
   "execution_count": 6,
   "id": "88100423-8ac6-4490-a65e-3bc767cbe386",
   "metadata": {},
   "outputs": [
    {
     "name": "stdout",
     "output_type": "stream",
     "text": [
      "<Compressed Sparse Row sparse matrix of dtype 'float64'\n",
      "\twith 124266 stored elements and shape (4803, 17318)>\n",
      "  Coords\tValues\n",
      "  (0, 201)\t0.07860022416510505\n",
      "  (0, 274)\t0.09021200873707368\n",
      "  (0, 5274)\t0.11108562744414445\n",
      "  (0, 13599)\t0.1036413987316636\n",
      "  (0, 5437)\t0.1036413987316636\n",
      "  (0, 3678)\t0.21392179219912877\n",
      "  (0, 3065)\t0.22208377802661425\n",
      "  (0, 5836)\t0.1646750903586285\n",
      "  (0, 14378)\t0.33962752210959823\n",
      "  (0, 16587)\t0.12549432354918996\n",
      "  (0, 3225)\t0.24960162956997736\n",
      "  (0, 14271)\t0.21392179219912877\n",
      "  (0, 4945)\t0.24025852494110758\n",
      "  (0, 15261)\t0.07095833561276566\n",
      "  (0, 16998)\t0.1282126322850579\n",
      "  (0, 11192)\t0.09049319826481456\n",
      "  (0, 11503)\t0.27211310056983656\n",
      "  (0, 13349)\t0.15021264094167086\n",
      "  (0, 17007)\t0.23643326319898797\n",
      "  (0, 17290)\t0.20197912553916567\n",
      "  (0, 13319)\t0.2177470539412484\n",
      "  (0, 14064)\t0.20596090415084142\n",
      "  (0, 16668)\t0.19843263965100372\n",
      "  (0, 14608)\t0.15150672398763912\n",
      "  (0, 8756)\t0.22709015857011816\n",
      "  :\t:\n",
      "  (4801, 403)\t0.17727585190343229\n",
      "  (4801, 4835)\t0.24713765026964\n",
      "  (4801, 17266)\t0.28860981849329476\n",
      "  (4801, 13835)\t0.27870029291200094\n",
      "  (4801, 13175)\t0.28860981849329476\n",
      "  (4801, 17150)\t0.3025765103586468\n",
      "  (4801, 3511)\t0.3025765103586468\n",
      "  (4801, 13948)\t0.3025765103586468\n",
      "  (4801, 7269)\t0.3025765103586468\n",
      "  (4802, 11161)\t0.17867407682173203\n",
      "  (4802, 4518)\t0.16784466610624255\n",
      "  (4802, 2129)\t0.3099656128577656\n",
      "  (4802, 4980)\t0.16078053641367315\n",
      "  (4802, 6155)\t0.18056463596934083\n",
      "  (4802, 3436)\t0.21753405888348784\n",
      "  (4802, 4528)\t0.19504460807622875\n",
      "  (4802, 1316)\t0.1960747079005741\n",
      "  (4802, 12989)\t0.1696476532191718\n",
      "  (4802, 4371)\t0.1538239182675544\n",
      "  (4802, 6417)\t0.21753405888348784\n",
      "  (4802, 4608)\t0.24002350969074696\n",
      "  (4802, 2425)\t0.24002350969074696\n",
      "  (4802, 3654)\t0.262512960498006\n",
      "  (4802, 5367)\t0.22969114490410403\n",
      "  (4802, 6996)\t0.5700048226105303\n"
     ]
    }
   ],
   "source": [
    "vectorizer= TfidfVectorizer()\n",
    "feature_vectors=vectorizer.fit_transform(features)\n",
    "print(feature_vectors)"
   ]
  },
  {
   "cell_type": "code",
   "execution_count": 7,
   "id": "f543f394-8104-4f6a-ad6b-de319aee7d85",
   "metadata": {},
   "outputs": [],
   "source": [
    "similarity=cosine_similarity(feature_vectors)"
   ]
  },
  {
   "cell_type": "code",
   "execution_count": null,
   "id": "daffdcab-d67f-4abe-ae16-2c81616e9950",
   "metadata": {},
   "outputs": [],
   "source": [
    "movie_name=input(\"Enter the movie name : \")\n"
   ]
  },
  {
   "cell_type": "code",
   "execution_count": null,
   "id": "676fdd17-4e8a-41ab-9786-cc3419a26f35",
   "metadata": {},
   "outputs": [],
   "source": [
    "movie_list=movies_data[\"title\"].tolist()\n",
    "print(movie_list)"
   ]
  },
  {
   "cell_type": "code",
   "execution_count": null,
   "id": "207cbf0d-54cc-44f8-bb9c-781cf9a61ecd",
   "metadata": {},
   "outputs": [],
   "source": [
    "find_similars=difflib.get_close_matches(movie_name,movie_list)"
   ]
  },
  {
   "cell_type": "code",
   "execution_count": null,
   "id": "bdfd2ee6-f00b-4360-a0f6-512b64e7108a",
   "metadata": {},
   "outputs": [],
   "source": [
    "print(find_similar)"
   ]
  },
  {
   "cell_type": "code",
   "execution_count": null,
   "id": "1a1f3468-f8b6-4132-9b15-6f3d70a087d4",
   "metadata": {},
   "outputs": [],
   "source": [
    "similar=find_similars[0]\n",
    "index_of_movie= movies_data[movies_data.title == similar]['index'].values[0]\n",
    "print(index_of_movie)"
   ]
  },
  {
   "cell_type": "code",
   "execution_count": null,
   "id": "3dba2a33-e68a-4cb5-871c-2e5976808d47",
   "metadata": {},
   "outputs": [],
   "source": [
    "similarity_score=list(enumerate(similarity[index_of_movie]))"
   ]
  },
  {
   "cell_type": "code",
   "execution_count": null,
   "id": "0962b151-be07-40f5-ac56-bbebeda363de",
   "metadata": {},
   "outputs": [],
   "source": [
    "print(similarity_score)"
   ]
  },
  {
   "cell_type": "code",
   "execution_count": null,
   "id": "5a6bc7f1-f17f-4dbd-9aaa-5feeec3c7a2e",
   "metadata": {},
   "outputs": [],
   "source": [
    "sorted_similar_movies=sorted(similarity_score,key=lambda x :x[1],reverse=True)\n",
    "print(sorted_similar_movies)"
   ]
  },
  {
   "cell_type": "code",
   "execution_count": null,
   "id": "782e2403-fff5-44b5-9be5-fbb4d8226255",
   "metadata": {},
   "outputs": [],
   "source": [
    "print('Movies suggested for you : \\n')\n",
    "i=1\n",
    "for movie in sorted_similar_movies:\n",
    "    index=movie[0]\n",
    "    title_from_index=movies_data[movies_data.index==index]['title'].values[0]\n",
    "    if (i<21):\n",
    "        print(i,',', title_from_index)\n",
    "        i+=1\n",
    "    \n",
    "        \n",
    "        \n",
    "\n",
    "      "
   ]
  },
  {
   "cell_type": "code",
   "execution_count": null,
   "id": "de0ce828-20e5-4e43-a034-2d333170101e",
   "metadata": {},
   "outputs": [],
   "source": [
    "movie_name=input(\"Enter the movie name : \")\n",
    "movie_list=movies_data[\"title\"].tolist()\n",
    "\n",
    "find_similars=difflib.get_close_matches(movie_name,movie_list)\n",
    "similar=find_similars[0]\n",
    "index_of_movie= movies_data[movies_data.title == similar]['index'].values[0]\n",
    "\n",
    "similarity_score=list(enumerate(similarity[index_of_movie]))\n",
    "sorted_similar_movies=sorted(similarity_score,key=lambda x :x[1],reverse=True)\n",
    "\n",
    "print('Movies suggested for you : \\n')\n",
    "i=1\n",
    "for movie in sorted_similar_movies:\n",
    "    index=movie[0]\n",
    "    title_from_index=movies_data[movies_data.index==index]['title'].values[0]\n",
    "    if (i<21):\n",
    "        print(i,',', title_from_index)\n",
    "        i+=1\n",
    "    \n",
    "        "
   ]
  },
  {
   "cell_type": "code",
   "execution_count": null,
   "id": "34ef709a-9398-4513-9ce7-85a8e56b58c2",
   "metadata": {},
   "outputs": [],
   "source": []
  },
  {
   "cell_type": "code",
   "execution_count": null,
   "id": "bc402ace-bf79-4a6b-b9fc-a6a3ca5d4fad",
   "metadata": {},
   "outputs": [],
   "source": [
    "movies_data=pd.read_csv('movies.csv')\n",
    "movies_data.head()"
   ]
  },
  {
   "cell_type": "code",
   "execution_count": null,
   "id": "969a09f9-ac6e-4e54-b0e3-c69d9462a5a7",
   "metadata": {},
   "outputs": [],
   "source": [
    "selected_features=[\"genres\",\"keywords\",\"tagline\",\"cast\",\"director\"]\n",
    "for feature in selected_features:\n",
    "    movies_data[feature]=movies_data[feature].fillna('')\n",
    "    \n",
    "    "
   ]
  },
  {
   "cell_type": "code",
   "execution_count": null,
   "id": "c6eae721-eed2-4fb9-9456-20b96290a296",
   "metadata": {},
   "outputs": [],
   "source": [
    "features=movies_data[\"genres\"]+' '+movies_data[\"keywords\"]+' '+movies_data[\"tagline\"]+\" \"+movies_data[\"cast\"]+\" \"+movies_data[\"director\"]"
   ]
  },
  {
   "cell_type": "code",
   "execution_count": null,
   "id": "7818eef1-96fa-4bae-8d6d-ae4ca36c9d10",
   "metadata": {},
   "outputs": [],
   "source": [
    "vectorizer= TfidfVectorizer()\n",
    "feature_vectors=vectorizer.fit_transform(features)\n",
    "print(feature_vectors)"
   ]
  },
  {
   "cell_type": "code",
   "execution_count": null,
   "id": "05b56391-77c2-4ffe-a6b6-40f3417ad4c8",
   "metadata": {},
   "outputs": [],
   "source": [
    "similarity=cosine_similarity(feature_vectors)"
   ]
  },
  {
   "cell_type": "code",
   "execution_count": null,
   "id": "5e8c9901-080a-4ad7-9f99-b66131625d8f",
   "metadata": {},
   "outputs": [],
   "source": [
    "movie_name=input(\"Enter the movie name : \")\n"
   ]
  },
  {
   "cell_type": "code",
   "execution_count": null,
   "id": "f50ff057-dd1c-4cfc-afa7-c60eeb856f8d",
   "metadata": {},
   "outputs": [],
   "source": [
    "movie_list=movies_data[\"title\"].tolist()\n",
    "print(movie_list)"
   ]
  },
  {
   "cell_type": "code",
   "execution_count": null,
   "id": "48668def-287a-4d31-a38f-f0def0079d8d",
   "metadata": {},
   "outputs": [],
   "source": [
    "print(find_similar)"
   ]
  },
  {
   "cell_type": "code",
   "execution_count": null,
   "id": "5554de21-3b33-41fc-8670-79ceef7d04e1",
   "metadata": {},
   "outputs": [],
   "source": [
    "find_similars=difflib.get_close_matches(movie_name,movie_list)"
   ]
  },
  {
   "cell_type": "code",
   "execution_count": null,
   "id": "1f34be8f-3791-44f3-982a-5aa7f23bb654",
   "metadata": {},
   "outputs": [],
   "source": [
    "similar=find_similars[0]\n",
    "index_of_movie= movies_data[movies_data.title == similar]['index'].values[0]\n",
    "print(index_of_movie)"
   ]
  },
  {
   "cell_type": "code",
   "execution_count": null,
   "id": "c1a25cd0-5987-4094-afe3-76bfe7df1265",
   "metadata": {},
   "outputs": [],
   "source": [
    "similarity_score=list(enumerate(similarity[index_of_movie]))"
   ]
  },
  {
   "cell_type": "code",
   "execution_count": null,
   "id": "4fab71fa-50a9-4367-8eb1-9a737988cf37",
   "metadata": {},
   "outputs": [],
   "source": [
    "print(similarity_score)"
   ]
  },
  {
   "cell_type": "code",
   "execution_count": null,
   "id": "08150c33-e4ee-46be-b7d1-46e924734426",
   "metadata": {},
   "outputs": [],
   "source": [
    "sorted_similar_movies=sorted(similarity_score,key=lambda x :x[1],reverse=True)\n",
    "print(sorted_similar_movies)"
   ]
  },
  {
   "cell_type": "code",
   "execution_count": null,
   "id": "5de3a866-d7df-46c3-aeca-b27b30b1573b",
   "metadata": {},
   "outputs": [],
   "source": [
    "print('Movies suggested for you : \\n')\n",
    "i=1\n",
    "for movie in sorted_similar_movies:\n",
    "    index=movie[0]\n",
    "    title_from_index=movies_data[movies_data.index==index]['title'].values[0]\n",
    "    if (i<21):\n",
    "        print(i,',', title_from_index)\n",
    "        i+=1\n",
    "    \n",
    "        \n",
    "        \n",
    "\n",
    "      "
   ]
  },
  {
   "cell_type": "code",
   "execution_count": null,
   "id": "d87bf505-05d9-4653-b596-4501ca5d3462",
   "metadata": {},
   "outputs": [],
   "source": []
  }
 ],
 "metadata": {
  "kernelspec": {
   "display_name": "Python 3 (ipykernel)",
   "language": "python",
   "name": "python3"
  },
  "language_info": {
   "codemirror_mode": {
    "name": "ipython",
    "version": 3
   },
   "file_extension": ".py",
   "mimetype": "text/x-python",
   "name": "python",
   "nbconvert_exporter": "python",
   "pygments_lexer": "ipython3",
   "version": "3.11.5"
  }
 },
 "nbformat": 4,
 "nbformat_minor": 5
}
